{
 "cells": [
  {
   "cell_type": "code",
   "execution_count": 1,
   "id": "0946e8fe",
   "metadata": {},
   "outputs": [],
   "source": [
    "import requests\n",
    "from bs4 import BeautifulSoup\n",
    "\n",
    "url = \"https://www.plazavea.com.pe/abarrotes\"\n",
    "    \n",
    "r = requests.get(url)"
   ]
  },
  {
   "cell_type": "code",
   "execution_count": 570,
   "id": "ca0d7e9e",
   "metadata": {},
   "outputs": [],
   "source": [
    "#pip install selenium"
   ]
  },
  {
   "cell_type": "code",
   "execution_count": null,
   "id": "05b9199d",
   "metadata": {
    "scrolled": true
   },
   "outputs": [
    {
     "name": "stderr",
     "output_type": "stream",
     "text": [
      "<ipython-input-55-f617b4a7dcea>:16: DeprecationWarning: executable_path has been deprecated, please pass in a Service object\n",
      "  browser = webdriver.Chrome(PATH,options = options)\n"
     ]
    },
    {
     "name": "stdout",
     "output_type": "stream",
     "text": [
      "2\n",
      "extrajo 50\n",
      "3\n",
      "4\n",
      "5\n",
      "6\n",
      "7\n",
      "8\n",
      "extrajo 50\n",
      "9\n",
      "10\n",
      "11\n",
      "12\n",
      "13\n",
      "14\n",
      "15\n",
      "16\n",
      "17\n",
      "18\n",
      "19\n",
      "20\n",
      "21\n",
      "22\n",
      "23\n",
      "24\n",
      "25\n",
      "26\n",
      "27\n",
      "28\n",
      "29\n",
      "30\n",
      "31\n",
      "32\n",
      "33\n"
     ]
    }
   ],
   "source": [
    "from selenium import webdriver\n",
    "from selenium.webdriver.support.ui import WebDriverWait\n",
    "from selenium.webdriver.support import expected_conditions as EC\n",
    "from selenium.webdriver.common.by import By\n",
    "import xml.etree.ElementTree as ET\n",
    "import time\n",
    "import pandas as pd\n",
    "\n",
    "options = webdriver.ChromeOptions()\n",
    "options.add_argument('--start-maximized')\n",
    "options.add_argument('--disable-extensions')\n",
    "options.add_argument('--incognito')\n",
    "\n",
    "PATH = 'C:/Users/gian_/OneDrive/Escritorio/Trabajo_Final_LP2/chromedriver.exe'\n",
    "\n",
    "browser = webdriver.Chrome(PATH,options = options)\n",
    "\n",
    "browser.get('https://www.plazavea.com.pe/abarrotes')\n",
    "\n",
    "WebDriverWait(browser, 60)\\\n",
    "    .until(EC.element_to_be_clickable((By.CSS_SELECTOR,\n",
    "                                      'button.align-right secondary slidedown-button'.replace(' ', '.'))))\\\n",
    "    .click()\n",
    "\n",
    "WebDriverWait(browser, 60)\\\n",
    "    .until(EC.element_to_be_clickable((By.XPATH,\n",
    "                                      '/html/body/div[4]/div[2]/div[2]/img')))\\\n",
    "    .click()\n",
    "\n",
    "\n",
    "#------\n",
    "def it():\n",
    "    elem_tem = WebDriverWait(browser, 30).until(EC.presence_of_element_located(\n",
    "            (By.XPATH, '/html/body/div[4]/main/div[1]/div[2]/main/div[2]/div[1]/div/div/div/div/div/div')))\n",
    "    elem_list = browser.find_element(\n",
    "        By.XPATH, \"/html/body/div[4]/main/div[1]/div[2]/main/div[2]/div[1]/div/div/div/div/div/div\")\n",
    "    #print(elem_list)\n",
    "    item_tem = WebDriverWait(browser, 30).until(EC.presence_of_element_located(\n",
    "            (By.XPATH, '//div[@class=\"HA Showcase Showcase--food\"]')))\n",
    "    items = elem_list.find_elements(\n",
    "        By.XPATH, '//div[@class=\"HA Showcase Showcase--food\"]')\n",
    "    return items\n",
    "\n",
    "#it()\n",
    "def alm():\n",
    "    table = []\n",
    "    for item in it():\n",
    "        prov = []\n",
    "        title = item.find_element(By.CLASS_NAME, 'Showcase__content').get_attribute(\"title\")\n",
    "        price = item.find_element(By.CLASS_NAME, \"price\").text\n",
    "        cantidad = item.find_element(By.CLASS_NAME, \"Showcase__units-reference\").text\n",
    "        prov.append(title)\n",
    "        prov.append(price)\n",
    "        prov.append(cantidad)\n",
    "        table.append(prov)\n",
    "    return table\n",
    "\n",
    "#------\n",
    "\n",
    "def data():\n",
    "    s=[]\n",
    "    isNextDisable = False\n",
    "    a=1\n",
    "    while not isNextDisable:\n",
    "        try:\n",
    "            try:\n",
    "                a+=1\n",
    "                print(a)\n",
    "                k=alm()\n",
    "                print(\"extrajo\", len(k))\n",
    "                s.extend(k)\n",
    "\n",
    "                browser.execute_script(\"window.scrollBy(0, 1000);\")\n",
    "                browser.execute_script(\"window.scrollBy(0, -700);\")\n",
    "\n",
    "                browser.find_element(By.CLASS_NAME, 'pagination__item page-control next'.replace(' ', '.')).click()\n",
    "            except:\n",
    "                browser.execute_script(\"window.scrollBy(0, 300);\")\n",
    "                browser.find_element(By.CLASS_NAME, \"pagination__item page-control next\".replace(' ', '.')).click()\n",
    "\n",
    "            next_btn = WebDriverWait(browser, 10).until(EC.presence_of_element_located(\n",
    "                (By.CLASS_NAME, 'pagination__item page-control next'.replace(' ', '.'))))\n",
    "\n",
    "            next_class = next_btn.get_attribute('class')\n",
    "\n",
    "            if \"disabled\" in  next_class:\n",
    "                isNextDisable = True\n",
    "\n",
    "        except Exception as e:\n",
    "            print(e, \"Main Error\")\n",
    "            isNextDisable = True\n",
    "    return s\n",
    "\n",
    "data()"
   ]
  },
  {
   "cell_type": "code",
   "execution_count": 29,
   "id": "e9985368",
   "metadata": {},
   "outputs": [
    {
     "ename": "NameError",
     "evalue": "name 'abarrotes' is not defined",
     "output_type": "error",
     "traceback": [
      "\u001b[1;31m---------------------------------------------------------------------------\u001b[0m",
      "\u001b[1;31mNameError\u001b[0m                                 Traceback (most recent call last)",
      "\u001b[1;32m<ipython-input-29-582cebfd5e8d>\u001b[0m in \u001b[0;36m<module>\u001b[1;34m\u001b[0m\n\u001b[0;32m      1\u001b[0m \u001b[1;32mimport\u001b[0m \u001b[0mpandas\u001b[0m \u001b[1;32mas\u001b[0m \u001b[0mpd\u001b[0m\u001b[1;33m\u001b[0m\u001b[1;33m\u001b[0m\u001b[0m\n\u001b[0;32m      2\u001b[0m \u001b[1;33m\u001b[0m\u001b[0m\n\u001b[1;32m----> 3\u001b[1;33m \u001b[0mabarrotes_csv\u001b[0m\u001b[1;33m=\u001b[0m\u001b[0mpd\u001b[0m\u001b[1;33m.\u001b[0m\u001b[0mDataFrame\u001b[0m\u001b[1;33m(\u001b[0m\u001b[0mabarrotes\u001b[0m\u001b[1;33m,\u001b[0m\u001b[0mcolumns\u001b[0m \u001b[1;33m=\u001b[0m \u001b[1;33m[\u001b[0m\u001b[1;34m'Nombre'\u001b[0m\u001b[1;33m,\u001b[0m \u001b[1;34m'Precio'\u001b[0m\u001b[1;33m,\u001b[0m \u001b[1;34m'Cantidad'\u001b[0m\u001b[1;33m]\u001b[0m \u001b[1;33m)\u001b[0m\u001b[1;33m\u001b[0m\u001b[1;33m\u001b[0m\u001b[0m\n\u001b[0m\u001b[0;32m      4\u001b[0m \u001b[0mabarrotes_csv\u001b[0m\u001b[1;33m.\u001b[0m\u001b[0mto_csv\u001b[0m\u001b[1;33m(\u001b[0m\u001b[1;34m\"PlazaVea.csv\"\u001b[0m\u001b[1;33m,\u001b[0m\u001b[0mindex\u001b[0m\u001b[1;33m=\u001b[0m\u001b[1;32mFalse\u001b[0m\u001b[1;33m)\u001b[0m\u001b[1;33m\u001b[0m\u001b[1;33m\u001b[0m\u001b[0m\n\u001b[0;32m      5\u001b[0m \u001b[0mpd\u001b[0m\u001b[1;33m.\u001b[0m\u001b[0mread_csv\u001b[0m\u001b[1;33m(\u001b[0m\u001b[1;34m\"PlazaVea.csv\"\u001b[0m\u001b[1;33m)\u001b[0m\u001b[1;33m\u001b[0m\u001b[1;33m\u001b[0m\u001b[0m\n",
      "\u001b[1;31mNameError\u001b[0m: name 'abarrotes' is not defined"
     ]
    }
   ],
   "source": [
    "import pandas as pd\n",
    "\n",
    "abarrotes_csv=pd.DataFrame(abarrotes,columns = ['Nombre', 'Precio', 'Cantidad'] )\n",
    "abarrotes_csv.to_csv(\"PlazaVea.csv\",index=False)\n",
    "pd.read_csv(\"PlazaVea.csv\")"
   ]
  },
  {
   "cell_type": "code",
   "execution_count": null,
   "id": "5fd63321",
   "metadata": {},
   "outputs": [],
   "source": [
    "elif \"page-number\" in alv:\n",
    "    "
   ]
  },
  {
   "cell_type": "code",
   "execution_count": 19,
   "id": "b1a5f52f",
   "metadata": {},
   "outputs": [
    {
     "data": {
      "text/plain": [
       "'Ahorro Packs\\nCarnes, Aves y Pescados\\nFrutas y Verduras\\nCongelados\\nLácteos y Huevos\\nQuesos y Fiambres\\nAbarrotes\\nDesayunos\\nPanadería y Pastelería\\nPollo Rostizado y Comidas Preparadas\\nBebidas\\nCuidado del Bebé\\nCuidado Personal y Salud\\nLimpieza\\nMascotas\\nMercado Saludable'"
      ]
     },
     "execution_count": 19,
     "metadata": {},
     "output_type": "execute_result"
    }
   ],
   "source": [
    "categorias.text"
   ]
  },
  {
   "cell_type": "code",
   "execution_count": 4,
   "id": "eef3e0e6",
   "metadata": {
    "scrolled": true
   },
   "outputs": [
    {
     "name": "stderr",
     "output_type": "stream",
     "text": [
      "<ipython-input-4-2839f3696504>:16: DeprecationWarning: executable_path has been deprecated, please pass in a Service object\n",
      "  browser = webdriver.Chrome(PATH,options = options)\n"
     ]
    },
    {
     "ename": "NoSuchWindowException",
     "evalue": "Message: no such window: target window already closed\nfrom unknown error: web view not found\n  (Session info: chrome=103.0.5060.134)\nStacktrace:\nBacktrace:\n\tOrdinal0 [0x00885FD3+2187219]\n\tOrdinal0 [0x0081E6D1+1763025]\n\tOrdinal0 [0x00733E78+802424]\n\tOrdinal0 [0x0071C680+706176]\n\tOrdinal0 [0x0077F519+1111321]\n\tOrdinal0 [0x0078C762+1165154]\n\tOrdinal0 [0x0077C9A6+1100198]\n\tOrdinal0 [0x00756F80+946048]\n\tOrdinal0 [0x00757E76+949878]\n\tGetHandleVerifier [0x00B290C2+2721218]\n\tGetHandleVerifier [0x00B1AAF0+2662384]\n\tGetHandleVerifier [0x0091137A+526458]\n\tGetHandleVerifier [0x00910416+522518]\n\tOrdinal0 [0x00824EAB+1789611]\n\tOrdinal0 [0x008297A8+1808296]\n\tOrdinal0 [0x00829895+1808533]\n\tOrdinal0 [0x008326C1+1844929]\n\tBaseThreadInitThunk [0x75D26739+25]\n\tRtlGetFullPathName_UEx [0x77498FEF+1215]\n\tRtlGetFullPathName_UEx [0x77498FBD+1165]\n",
     "output_type": "error",
     "traceback": [
      "\u001b[1;31m---------------------------------------------------------------------------\u001b[0m",
      "\u001b[1;31mNoSuchWindowException\u001b[0m                     Traceback (most recent call last)",
      "\u001b[1;32m<ipython-input-4-2839f3696504>\u001b[0m in \u001b[0;36m<module>\u001b[1;34m\u001b[0m\n\u001b[0;32m     21\u001b[0m \u001b[1;32mwhile\u001b[0m \u001b[0mx\u001b[0m\u001b[1;33m<=\u001b[0m\u001b[0mlen\u001b[0m\u001b[1;33m(\u001b[0m\u001b[0mcategorias\u001b[0m\u001b[1;33m)\u001b[0m\u001b[1;33m-\u001b[0m\u001b[1;36m1\u001b[0m\u001b[1;33m:\u001b[0m\u001b[1;33m\u001b[0m\u001b[1;33m\u001b[0m\u001b[0m\n\u001b[0;32m     22\u001b[0m     \u001b[0murl\u001b[0m \u001b[1;33m=\u001b[0m \u001b[1;34m\"https://www.plazavea.com.pe/\"\u001b[0m\u001b[1;33m+\u001b[0m\u001b[0mcategorias\u001b[0m\u001b[1;33m[\u001b[0m\u001b[0mx\u001b[0m\u001b[1;33m]\u001b[0m\u001b[1;33m\u001b[0m\u001b[1;33m\u001b[0m\u001b[0m\n\u001b[1;32m---> 23\u001b[1;33m     \u001b[0mbrowser\u001b[0m\u001b[1;33m.\u001b[0m\u001b[0mget\u001b[0m\u001b[1;33m(\u001b[0m\u001b[0murl\u001b[0m\u001b[1;33m)\u001b[0m\u001b[1;33m\u001b[0m\u001b[1;33m\u001b[0m\u001b[0m\n\u001b[0m\u001b[0;32m     24\u001b[0m     \u001b[0mx\u001b[0m\u001b[1;33m+=\u001b[0m\u001b[1;36m1\u001b[0m\u001b[1;33m\u001b[0m\u001b[1;33m\u001b[0m\u001b[0m\n",
      "\u001b[1;32m~\\anaconda3\\lib\\site-packages\\selenium\\webdriver\\remote\\webdriver.py\u001b[0m in \u001b[0;36mget\u001b[1;34m(self, url)\u001b[0m\n\u001b[0;32m    445\u001b[0m         \u001b[0mLoads\u001b[0m \u001b[0ma\u001b[0m \u001b[0mweb\u001b[0m \u001b[0mpage\u001b[0m \u001b[1;32min\u001b[0m \u001b[0mthe\u001b[0m \u001b[0mcurrent\u001b[0m \u001b[0mbrowser\u001b[0m \u001b[0msession\u001b[0m\u001b[1;33m.\u001b[0m\u001b[1;33m\u001b[0m\u001b[1;33m\u001b[0m\u001b[0m\n\u001b[0;32m    446\u001b[0m         \"\"\"\n\u001b[1;32m--> 447\u001b[1;33m         \u001b[0mself\u001b[0m\u001b[1;33m.\u001b[0m\u001b[0mexecute\u001b[0m\u001b[1;33m(\u001b[0m\u001b[0mCommand\u001b[0m\u001b[1;33m.\u001b[0m\u001b[0mGET\u001b[0m\u001b[1;33m,\u001b[0m \u001b[1;33m{\u001b[0m\u001b[1;34m'url'\u001b[0m\u001b[1;33m:\u001b[0m \u001b[0murl\u001b[0m\u001b[1;33m}\u001b[0m\u001b[1;33m)\u001b[0m\u001b[1;33m\u001b[0m\u001b[1;33m\u001b[0m\u001b[0m\n\u001b[0m\u001b[0;32m    448\u001b[0m \u001b[1;33m\u001b[0m\u001b[0m\n\u001b[0;32m    449\u001b[0m     \u001b[1;33m@\u001b[0m\u001b[0mproperty\u001b[0m\u001b[1;33m\u001b[0m\u001b[1;33m\u001b[0m\u001b[0m\n",
      "\u001b[1;32m~\\anaconda3\\lib\\site-packages\\selenium\\webdriver\\remote\\webdriver.py\u001b[0m in \u001b[0;36mexecute\u001b[1;34m(self, driver_command, params)\u001b[0m\n\u001b[0;32m    433\u001b[0m         \u001b[0mresponse\u001b[0m \u001b[1;33m=\u001b[0m \u001b[0mself\u001b[0m\u001b[1;33m.\u001b[0m\u001b[0mcommand_executor\u001b[0m\u001b[1;33m.\u001b[0m\u001b[0mexecute\u001b[0m\u001b[1;33m(\u001b[0m\u001b[0mdriver_command\u001b[0m\u001b[1;33m,\u001b[0m \u001b[0mparams\u001b[0m\u001b[1;33m)\u001b[0m\u001b[1;33m\u001b[0m\u001b[1;33m\u001b[0m\u001b[0m\n\u001b[0;32m    434\u001b[0m         \u001b[1;32mif\u001b[0m \u001b[0mresponse\u001b[0m\u001b[1;33m:\u001b[0m\u001b[1;33m\u001b[0m\u001b[1;33m\u001b[0m\u001b[0m\n\u001b[1;32m--> 435\u001b[1;33m             \u001b[0mself\u001b[0m\u001b[1;33m.\u001b[0m\u001b[0merror_handler\u001b[0m\u001b[1;33m.\u001b[0m\u001b[0mcheck_response\u001b[0m\u001b[1;33m(\u001b[0m\u001b[0mresponse\u001b[0m\u001b[1;33m)\u001b[0m\u001b[1;33m\u001b[0m\u001b[1;33m\u001b[0m\u001b[0m\n\u001b[0m\u001b[0;32m    436\u001b[0m             response['value'] = self._unwrap_value(\n\u001b[0;32m    437\u001b[0m                 response.get('value', None))\n",
      "\u001b[1;32m~\\anaconda3\\lib\\site-packages\\selenium\\webdriver\\remote\\errorhandler.py\u001b[0m in \u001b[0;36mcheck_response\u001b[1;34m(self, response)\u001b[0m\n\u001b[0;32m    245\u001b[0m                 \u001b[0malert_text\u001b[0m \u001b[1;33m=\u001b[0m \u001b[0mvalue\u001b[0m\u001b[1;33m[\u001b[0m\u001b[1;34m'alert'\u001b[0m\u001b[1;33m]\u001b[0m\u001b[1;33m.\u001b[0m\u001b[0mget\u001b[0m\u001b[1;33m(\u001b[0m\u001b[1;34m'text'\u001b[0m\u001b[1;33m)\u001b[0m\u001b[1;33m\u001b[0m\u001b[1;33m\u001b[0m\u001b[0m\n\u001b[0;32m    246\u001b[0m             \u001b[1;32mraise\u001b[0m \u001b[0mexception_class\u001b[0m\u001b[1;33m(\u001b[0m\u001b[0mmessage\u001b[0m\u001b[1;33m,\u001b[0m \u001b[0mscreen\u001b[0m\u001b[1;33m,\u001b[0m \u001b[0mstacktrace\u001b[0m\u001b[1;33m,\u001b[0m \u001b[0malert_text\u001b[0m\u001b[1;33m)\u001b[0m  \u001b[1;31m# type: ignore[call-arg]  # mypy is not smart enough here\u001b[0m\u001b[1;33m\u001b[0m\u001b[1;33m\u001b[0m\u001b[0m\n\u001b[1;32m--> 247\u001b[1;33m         \u001b[1;32mraise\u001b[0m \u001b[0mexception_class\u001b[0m\u001b[1;33m(\u001b[0m\u001b[0mmessage\u001b[0m\u001b[1;33m,\u001b[0m \u001b[0mscreen\u001b[0m\u001b[1;33m,\u001b[0m \u001b[0mstacktrace\u001b[0m\u001b[1;33m)\u001b[0m\u001b[1;33m\u001b[0m\u001b[1;33m\u001b[0m\u001b[0m\n\u001b[0m\u001b[0;32m    248\u001b[0m \u001b[1;33m\u001b[0m\u001b[0m\n\u001b[0;32m    249\u001b[0m     \u001b[1;32mdef\u001b[0m \u001b[0m_value_or_default\u001b[0m\u001b[1;33m(\u001b[0m\u001b[0mself\u001b[0m\u001b[1;33m,\u001b[0m \u001b[0mobj\u001b[0m\u001b[1;33m:\u001b[0m \u001b[0mMapping\u001b[0m\u001b[1;33m[\u001b[0m\u001b[0m_KT\u001b[0m\u001b[1;33m,\u001b[0m \u001b[0m_VT\u001b[0m\u001b[1;33m]\u001b[0m\u001b[1;33m,\u001b[0m \u001b[0mkey\u001b[0m\u001b[1;33m:\u001b[0m \u001b[0m_KT\u001b[0m\u001b[1;33m,\u001b[0m \u001b[0mdefault\u001b[0m\u001b[1;33m:\u001b[0m \u001b[0m_VT\u001b[0m\u001b[1;33m)\u001b[0m \u001b[1;33m->\u001b[0m \u001b[0m_VT\u001b[0m\u001b[1;33m:\u001b[0m\u001b[1;33m\u001b[0m\u001b[1;33m\u001b[0m\u001b[0m\n",
      "\u001b[1;31mNoSuchWindowException\u001b[0m: Message: no such window: target window already closed\nfrom unknown error: web view not found\n  (Session info: chrome=103.0.5060.134)\nStacktrace:\nBacktrace:\n\tOrdinal0 [0x00885FD3+2187219]\n\tOrdinal0 [0x0081E6D1+1763025]\n\tOrdinal0 [0x00733E78+802424]\n\tOrdinal0 [0x0071C680+706176]\n\tOrdinal0 [0x0077F519+1111321]\n\tOrdinal0 [0x0078C762+1165154]\n\tOrdinal0 [0x0077C9A6+1100198]\n\tOrdinal0 [0x00756F80+946048]\n\tOrdinal0 [0x00757E76+949878]\n\tGetHandleVerifier [0x00B290C2+2721218]\n\tGetHandleVerifier [0x00B1AAF0+2662384]\n\tGetHandleVerifier [0x0091137A+526458]\n\tGetHandleVerifier [0x00910416+522518]\n\tOrdinal0 [0x00824EAB+1789611]\n\tOrdinal0 [0x008297A8+1808296]\n\tOrdinal0 [0x00829895+1808533]\n\tOrdinal0 [0x008326C1+1844929]\n\tBaseThreadInitThunk [0x75D26739+25]\n\tRtlGetFullPathName_UEx [0x77498FEF+1215]\n\tRtlGetFullPathName_UEx [0x77498FBD+1165]\n"
     ]
    }
   ],
   "source": [
    "from selenium import webdriver\n",
    "from selenium.webdriver.support.ui import WebDriverWait\n",
    "from selenium.webdriver.support import expected_conditions as EC\n",
    "from selenium.webdriver.common.by import By\n",
    "import xml.etree.ElementTree as ET\n",
    "import time\n",
    "import pandas as pd\n",
    "\n",
    "options = webdriver.ChromeOptions()\n",
    "options.add_argument('--start-maximized')\n",
    "options.add_argument('--disable-extensions')\n",
    "options.add_argument('--incognito')\n",
    "\n",
    "PATH = 'C:/Users/gian_/OneDrive/Escritorio/Trabajo_Final_LP2/chromedriver.exe'\n",
    "\n",
    "browser = webdriver.Chrome(PATH,options = options)\n",
    "\n",
    "categorias = [\"packs\",\"carnes-aves-y-pescados\",\"frutas-y-verduras\",\"congelados\",\"lacteos-y-huevos\",\"quesos-y-fiambres\",\"abarrotes\",\"desayunos\",\"panaderia-y-pasteleria\",\"pollo-rostizado-y-comidas-preparadas\",\"bebidas\",\"bebe-e-infantil\",\"cuidado-personal-y-salud\",\"limpieza\",\"mascotas\",\"mercado-saludable\"]\n",
    "\n",
    "x=0\n",
    "while x<=len(categorias)-1:\n",
    "    url = \"https://www.plazavea.com.pe/\"+categorias[x]\n",
    "    browser.get(url)\n",
    "    x+=1"
   ]
  },
  {
   "cell_type": "code",
   "execution_count": 20,
   "id": "dc62bd78",
   "metadata": {},
   "outputs": [],
   "source": [
    "next_btn = WebDriverWait(browser, 10).until(EC.presence_of_element_located(\n",
    "            (By.CLASS_NAME, 'pagination__item page-control next'.replace(' ', '.'))))\n",
    "\n",
    "next_class = next_btn.get_attribute('class')"
   ]
  },
  {
   "cell_type": "code",
   "execution_count": 21,
   "id": "5eec7696",
   "metadata": {},
   "outputs": [
    {
     "data": {
      "text/plain": [
       "'pagination__item page-control next '"
      ]
     },
     "execution_count": 21,
     "metadata": {},
     "output_type": "execute_result"
    }
   ],
   "source": [
    "next_class"
   ]
  },
  {
   "cell_type": "code",
   "execution_count": 37,
   "id": "d3b8ec29",
   "metadata": {},
   "outputs": [
    {
     "name": "stdout",
     "output_type": "stream",
     "text": [
      "q\n"
     ]
    }
   ],
   "source": [
    "next_btn = WebDriverWait(browser, 10).until(EC.presence_of_element_located(\n",
    "            (By.CSS_SELECTOR, '#category-page > div.container > div.content__body.has-sidebar > main > div.vitrine > div.vitrine__caption.right-align > div > div > span.pagination__item.page-control.next')))\n",
    "\n",
    "next_class = next_btn.get_attribute('class')\n",
    "\n",
    "if next_class in \"page-\":\n",
    "    print(\"xd\")\n",
    "else:\n",
    "    print(\"q\")"
   ]
  },
  {
   "cell_type": "code",
   "execution_count": 44,
   "id": "0fd1d9dd",
   "metadata": {},
   "outputs": [
    {
     "name": "stdout",
     "output_type": "stream",
     "text": [
      "a\n"
     ]
    }
   ],
   "source": [
    "next_btn = WebDriverWait(browser, 10).until(EC.presence_of_element_located(\n",
    "    (By.CLASS_NAME, 'pagination__item page-control next'.replace(' ', '.'))))\n",
    "\n",
    "next_class = next_btn.get_attribute('class')\n",
    "\n",
    "if \"page-control\" in next_class:\n",
    "    print(\"a\")\n",
    "else:\n",
    "    print(\"aja\")"
   ]
  },
  {
   "cell_type": "code",
   "execution_count": null,
   "id": "c15dd14c",
   "metadata": {},
   "outputs": [],
   "source": []
  }
 ],
 "metadata": {
  "kernelspec": {
   "display_name": "Python 3",
   "language": "python",
   "name": "python3"
  },
  "language_info": {
   "codemirror_mode": {
    "name": "ipython",
    "version": 3
   },
   "file_extension": ".py",
   "mimetype": "text/x-python",
   "name": "python",
   "nbconvert_exporter": "python",
   "pygments_lexer": "ipython3",
   "version": "3.8.8"
  }
 },
 "nbformat": 4,
 "nbformat_minor": 5
}
