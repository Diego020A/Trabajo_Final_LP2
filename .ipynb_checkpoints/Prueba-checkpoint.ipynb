{
 "cells": [
  {
   "cell_type": "code",
   "execution_count": 88,
   "id": "695e0c6f",
   "metadata": {},
   "outputs": [
    {
     "ename": "ElementClickInterceptedException",
     "evalue": "Message: element click intercepted: Element <a class=\"jsx-2300280587 item text medium button\" href=\"/marca-tottus-3348291/c/?sort=Recomendados\">...</a> is not clickable at point (534, 233). Other element would receive the click: <button type=\"button\" class=\"jsx-2278716018 scroll prev\">...</button>\n  (Session info: chrome=103.0.5060.134)\nStacktrace:\nBacktrace:\n\tOrdinal0 [0x008C5FD3+2187219]\n\tOrdinal0 [0x0085E6D1+1763025]\n\tOrdinal0 [0x00773E78+802424]\n\tOrdinal0 [0x007A834B+1016651]\n\tOrdinal0 [0x007A6318+1008408]\n\tOrdinal0 [0x007A401B+999451]\n\tOrdinal0 [0x007A2D69+994665]\n\tOrdinal0 [0x007989B3+952755]\n\tOrdinal0 [0x007BCB8C+1100684]\n\tOrdinal0 [0x00798394+951188]\n\tOrdinal0 [0x007BCDA4+1101220]\n\tOrdinal0 [0x007CCFC2+1167298]\n\tOrdinal0 [0x007BC9A6+1100198]\n\tOrdinal0 [0x00796F80+946048]\n\tOrdinal0 [0x00797E76+949878]\n\tGetHandleVerifier [0x00B690C2+2721218]\n\tGetHandleVerifier [0x00B5AAF0+2662384]\n\tGetHandleVerifier [0x0095137A+526458]\n\tGetHandleVerifier [0x00950416+522518]\n\tOrdinal0 [0x00864EAB+1789611]\n\tOrdinal0 [0x008697A8+1808296]\n\tOrdinal0 [0x00869895+1808533]\n\tOrdinal0 [0x008726C1+1844929]\n\tBaseThreadInitThunk [0x75E5FA29+25]\n\tRtlGetAppContainerNamedObjectPath [0x773F7A9E+286]\n\tRtlGetAppContainerNamedObjectPath [0x773F7A6E+238]\n",
     "output_type": "error",
     "traceback": [
      "\u001b[1;31m---------------------------------------------------------------------------\u001b[0m",
      "\u001b[1;31mElementClickInterceptedException\u001b[0m          Traceback (most recent call last)",
      "\u001b[1;32m~\\AppData\\Local\\Temp/ipykernel_1592/1264411801.py\u001b[0m in \u001b[0;36m<module>\u001b[1;34m\u001b[0m\n\u001b[0;32m     29\u001b[0m     \u001b[0msig\u001b[0m\u001b[1;33m.\u001b[0m\u001b[0mclick\u001b[0m\u001b[1;33m(\u001b[0m\u001b[1;33m)\u001b[0m\u001b[1;33m\u001b[0m\u001b[1;33m\u001b[0m\u001b[0m\n\u001b[0;32m     30\u001b[0m     \u001b[0msleep\u001b[0m\u001b[1;33m(\u001b[0m\u001b[1;36m1\u001b[0m\u001b[1;33m)\u001b[0m\u001b[1;33m\u001b[0m\u001b[1;33m\u001b[0m\u001b[0m\n\u001b[1;32m---> 31\u001b[1;33m     \u001b[0mboton\u001b[0m\u001b[1;33m.\u001b[0m\u001b[0mclick\u001b[0m\u001b[1;33m(\u001b[0m\u001b[1;33m)\u001b[0m\u001b[1;33m\u001b[0m\u001b[1;33m\u001b[0m\u001b[0m\n\u001b[0m\u001b[0;32m     32\u001b[0m \u001b[1;33m\u001b[0m\u001b[0m\n\u001b[0;32m     33\u001b[0m     WebDriverWait(driver, 20).until(\n",
      "\u001b[1;32m~\\anaconda3\\lib\\site-packages\\selenium\\webdriver\\remote\\webelement.py\u001b[0m in \u001b[0;36mclick\u001b[1;34m(self)\u001b[0m\n\u001b[0;32m     86\u001b[0m     \u001b[1;32mdef\u001b[0m \u001b[0mclick\u001b[0m\u001b[1;33m(\u001b[0m\u001b[0mself\u001b[0m\u001b[1;33m)\u001b[0m \u001b[1;33m->\u001b[0m \u001b[1;32mNone\u001b[0m\u001b[1;33m:\u001b[0m\u001b[1;33m\u001b[0m\u001b[1;33m\u001b[0m\u001b[0m\n\u001b[0;32m     87\u001b[0m         \u001b[1;34m\"\"\"Clicks the element.\"\"\"\u001b[0m\u001b[1;33m\u001b[0m\u001b[1;33m\u001b[0m\u001b[0m\n\u001b[1;32m---> 88\u001b[1;33m         \u001b[0mself\u001b[0m\u001b[1;33m.\u001b[0m\u001b[0m_execute\u001b[0m\u001b[1;33m(\u001b[0m\u001b[0mCommand\u001b[0m\u001b[1;33m.\u001b[0m\u001b[0mCLICK_ELEMENT\u001b[0m\u001b[1;33m)\u001b[0m\u001b[1;33m\u001b[0m\u001b[1;33m\u001b[0m\u001b[0m\n\u001b[0m\u001b[0;32m     89\u001b[0m \u001b[1;33m\u001b[0m\u001b[0m\n\u001b[0;32m     90\u001b[0m     \u001b[1;32mdef\u001b[0m \u001b[0msubmit\u001b[0m\u001b[1;33m(\u001b[0m\u001b[0mself\u001b[0m\u001b[1;33m)\u001b[0m\u001b[1;33m:\u001b[0m\u001b[1;33m\u001b[0m\u001b[1;33m\u001b[0m\u001b[0m\n",
      "\u001b[1;32m~\\anaconda3\\lib\\site-packages\\selenium\\webdriver\\remote\\webelement.py\u001b[0m in \u001b[0;36m_execute\u001b[1;34m(self, command, params)\u001b[0m\n\u001b[0;32m    394\u001b[0m             \u001b[0mparams\u001b[0m \u001b[1;33m=\u001b[0m \u001b[1;33m{\u001b[0m\u001b[1;33m}\u001b[0m\u001b[1;33m\u001b[0m\u001b[1;33m\u001b[0m\u001b[0m\n\u001b[0;32m    395\u001b[0m         \u001b[0mparams\u001b[0m\u001b[1;33m[\u001b[0m\u001b[1;34m'id'\u001b[0m\u001b[1;33m]\u001b[0m \u001b[1;33m=\u001b[0m \u001b[0mself\u001b[0m\u001b[1;33m.\u001b[0m\u001b[0m_id\u001b[0m\u001b[1;33m\u001b[0m\u001b[1;33m\u001b[0m\u001b[0m\n\u001b[1;32m--> 396\u001b[1;33m         \u001b[1;32mreturn\u001b[0m \u001b[0mself\u001b[0m\u001b[1;33m.\u001b[0m\u001b[0m_parent\u001b[0m\u001b[1;33m.\u001b[0m\u001b[0mexecute\u001b[0m\u001b[1;33m(\u001b[0m\u001b[0mcommand\u001b[0m\u001b[1;33m,\u001b[0m \u001b[0mparams\u001b[0m\u001b[1;33m)\u001b[0m\u001b[1;33m\u001b[0m\u001b[1;33m\u001b[0m\u001b[0m\n\u001b[0m\u001b[0;32m    397\u001b[0m \u001b[1;33m\u001b[0m\u001b[0m\n\u001b[0;32m    398\u001b[0m     \u001b[1;32mdef\u001b[0m \u001b[0mfind_element\u001b[0m\u001b[1;33m(\u001b[0m\u001b[0mself\u001b[0m\u001b[1;33m,\u001b[0m \u001b[0mby\u001b[0m\u001b[1;33m=\u001b[0m\u001b[0mBy\u001b[0m\u001b[1;33m.\u001b[0m\u001b[0mID\u001b[0m\u001b[1;33m,\u001b[0m \u001b[0mvalue\u001b[0m\u001b[1;33m=\u001b[0m\u001b[1;32mNone\u001b[0m\u001b[1;33m)\u001b[0m \u001b[1;33m->\u001b[0m \u001b[0mWebElement\u001b[0m\u001b[1;33m:\u001b[0m\u001b[1;33m\u001b[0m\u001b[1;33m\u001b[0m\u001b[0m\n",
      "\u001b[1;32m~\\anaconda3\\lib\\site-packages\\selenium\\webdriver\\remote\\webdriver.py\u001b[0m in \u001b[0;36mexecute\u001b[1;34m(self, driver_command, params)\u001b[0m\n\u001b[0;32m    433\u001b[0m         \u001b[0mresponse\u001b[0m \u001b[1;33m=\u001b[0m \u001b[0mself\u001b[0m\u001b[1;33m.\u001b[0m\u001b[0mcommand_executor\u001b[0m\u001b[1;33m.\u001b[0m\u001b[0mexecute\u001b[0m\u001b[1;33m(\u001b[0m\u001b[0mdriver_command\u001b[0m\u001b[1;33m,\u001b[0m \u001b[0mparams\u001b[0m\u001b[1;33m)\u001b[0m\u001b[1;33m\u001b[0m\u001b[1;33m\u001b[0m\u001b[0m\n\u001b[0;32m    434\u001b[0m         \u001b[1;32mif\u001b[0m \u001b[0mresponse\u001b[0m\u001b[1;33m:\u001b[0m\u001b[1;33m\u001b[0m\u001b[1;33m\u001b[0m\u001b[0m\n\u001b[1;32m--> 435\u001b[1;33m             \u001b[0mself\u001b[0m\u001b[1;33m.\u001b[0m\u001b[0merror_handler\u001b[0m\u001b[1;33m.\u001b[0m\u001b[0mcheck_response\u001b[0m\u001b[1;33m(\u001b[0m\u001b[0mresponse\u001b[0m\u001b[1;33m)\u001b[0m\u001b[1;33m\u001b[0m\u001b[1;33m\u001b[0m\u001b[0m\n\u001b[0m\u001b[0;32m    436\u001b[0m             response['value'] = self._unwrap_value(\n\u001b[0;32m    437\u001b[0m                 response.get('value', None))\n",
      "\u001b[1;32m~\\anaconda3\\lib\\site-packages\\selenium\\webdriver\\remote\\errorhandler.py\u001b[0m in \u001b[0;36mcheck_response\u001b[1;34m(self, response)\u001b[0m\n\u001b[0;32m    245\u001b[0m                 \u001b[0malert_text\u001b[0m \u001b[1;33m=\u001b[0m \u001b[0mvalue\u001b[0m\u001b[1;33m[\u001b[0m\u001b[1;34m'alert'\u001b[0m\u001b[1;33m]\u001b[0m\u001b[1;33m.\u001b[0m\u001b[0mget\u001b[0m\u001b[1;33m(\u001b[0m\u001b[1;34m'text'\u001b[0m\u001b[1;33m)\u001b[0m\u001b[1;33m\u001b[0m\u001b[1;33m\u001b[0m\u001b[0m\n\u001b[0;32m    246\u001b[0m             \u001b[1;32mraise\u001b[0m \u001b[0mexception_class\u001b[0m\u001b[1;33m(\u001b[0m\u001b[0mmessage\u001b[0m\u001b[1;33m,\u001b[0m \u001b[0mscreen\u001b[0m\u001b[1;33m,\u001b[0m \u001b[0mstacktrace\u001b[0m\u001b[1;33m,\u001b[0m \u001b[0malert_text\u001b[0m\u001b[1;33m)\u001b[0m  \u001b[1;31m# type: ignore[call-arg]  # mypy is not smart enough here\u001b[0m\u001b[1;33m\u001b[0m\u001b[1;33m\u001b[0m\u001b[0m\n\u001b[1;32m--> 247\u001b[1;33m         \u001b[1;32mraise\u001b[0m \u001b[0mexception_class\u001b[0m\u001b[1;33m(\u001b[0m\u001b[0mmessage\u001b[0m\u001b[1;33m,\u001b[0m \u001b[0mscreen\u001b[0m\u001b[1;33m,\u001b[0m \u001b[0mstacktrace\u001b[0m\u001b[1;33m)\u001b[0m\u001b[1;33m\u001b[0m\u001b[1;33m\u001b[0m\u001b[0m\n\u001b[0m\u001b[0;32m    248\u001b[0m \u001b[1;33m\u001b[0m\u001b[0m\n\u001b[0;32m    249\u001b[0m     \u001b[1;32mdef\u001b[0m \u001b[0m_value_or_default\u001b[0m\u001b[1;33m(\u001b[0m\u001b[0mself\u001b[0m\u001b[1;33m,\u001b[0m \u001b[0mobj\u001b[0m\u001b[1;33m:\u001b[0m \u001b[0mMapping\u001b[0m\u001b[1;33m[\u001b[0m\u001b[0m_KT\u001b[0m\u001b[1;33m,\u001b[0m \u001b[0m_VT\u001b[0m\u001b[1;33m]\u001b[0m\u001b[1;33m,\u001b[0m \u001b[0mkey\u001b[0m\u001b[1;33m:\u001b[0m \u001b[0m_KT\u001b[0m\u001b[1;33m,\u001b[0m \u001b[0mdefault\u001b[0m\u001b[1;33m:\u001b[0m \u001b[0m_VT\u001b[0m\u001b[1;33m)\u001b[0m \u001b[1;33m->\u001b[0m \u001b[0m_VT\u001b[0m\u001b[1;33m:\u001b[0m\u001b[1;33m\u001b[0m\u001b[1;33m\u001b[0m\u001b[0m\n",
      "\u001b[1;31mElementClickInterceptedException\u001b[0m: Message: element click intercepted: Element <a class=\"jsx-2300280587 item text medium button\" href=\"/marca-tottus-3348291/c/?sort=Recomendados\">...</a> is not clickable at point (534, 233). Other element would receive the click: <button type=\"button\" class=\"jsx-2278716018 scroll prev\">...</button>\n  (Session info: chrome=103.0.5060.134)\nStacktrace:\nBacktrace:\n\tOrdinal0 [0x008C5FD3+2187219]\n\tOrdinal0 [0x0085E6D1+1763025]\n\tOrdinal0 [0x00773E78+802424]\n\tOrdinal0 [0x007A834B+1016651]\n\tOrdinal0 [0x007A6318+1008408]\n\tOrdinal0 [0x007A401B+999451]\n\tOrdinal0 [0x007A2D69+994665]\n\tOrdinal0 [0x007989B3+952755]\n\tOrdinal0 [0x007BCB8C+1100684]\n\tOrdinal0 [0x00798394+951188]\n\tOrdinal0 [0x007BCDA4+1101220]\n\tOrdinal0 [0x007CCFC2+1167298]\n\tOrdinal0 [0x007BC9A6+1100198]\n\tOrdinal0 [0x00796F80+946048]\n\tOrdinal0 [0x00797E76+949878]\n\tGetHandleVerifier [0x00B690C2+2721218]\n\tGetHandleVerifier [0x00B5AAF0+2662384]\n\tGetHandleVerifier [0x0095137A+526458]\n\tGetHandleVerifier [0x00950416+522518]\n\tOrdinal0 [0x00864EAB+1789611]\n\tOrdinal0 [0x008697A8+1808296]\n\tOrdinal0 [0x00869895+1808533]\n\tOrdinal0 [0x008726C1+1844929]\n\tBaseThreadInitThunk [0x75E5FA29+25]\n\tRtlGetAppContainerNamedObjectPath [0x773F7A9E+286]\n\tRtlGetAppContainerNamedObjectPath [0x773F7A6E+238]\n"
     ]
    }
   ],
   "source": [
    "# Prueba para un producto\n",
    "from selenium import webdriver\n",
    "from selenium.webdriver.common.by import By\n",
    "from selenium.webdriver.support import expected_conditions as EC\n",
    "from selenium.webdriver.support.ui import WebDriverWait\n",
    "import random\n",
    "from time import sleep\n",
    "from selenium.webdriver.chrome.service import Service\n",
    "\n",
    "options = webdriver.ChromeOptions()\n",
    "options.add_argument('--incognito')\n",
    "s= Service('C:/Users/Diego/Desktop/Trabajo_Final_LP2/chromedriver.exe')   # Se utiliza comando Service() porque arrojaba error\n",
    "                                                                          # deprecated .... iperkenel.\n",
    "driver = webdriver.Chrome(service=s,options = options)\n",
    "\n",
    "driver.get(\"https://www.tottus.com.pe/supermercado-ttsuper/c/?sort=Recomendados\")  \n",
    "\n",
    "#confirmacion= driver.find_element(\"xpath\",'//button[@class=\"swa12-confirm swa12-styled\"]')\n",
    "#confirmacion.click()\n",
    "\n",
    "a=WebDriverWait(driver, 3).until(\n",
    "    EC.element_to_be_clickable((\n",
    "        By.XPATH,'//a[@href=\"/abarrotes-4010000/c/?sort=Recomendados\"]')))\n",
    "boton=driver.find_element('xpath','//a[@href=\"/abarrotes-4010000/c/?sort=Recomendados\"]')\n",
    "sig= driver.find_element('xpath','//button[@class=\"jsx-2278716018 scroll next\"]')\n",
    "if a==True:\n",
    "    boton.click()\n",
    "else:\n",
    "    sig.click()\n",
    "    sleep(1)\n",
    "    boton.click()\n",
    "    \n",
    "    WebDriverWait(driver, 20).until(\n",
    "    EC.presence_of_all_elements_located((\n",
    "        By.XPATH,'//li[@class=\"product\"]')))\n",
    "    \n",
    "    sleep(1)\n",
    "    sig1=driver.find_element('xpath','//li[@class=\"next\"]')\n",
    "    t=[]\n",
    "    \n",
    "    for i in range(20):\n",
    "        driver.execute_script(\"window.scrollTo(0, document.body.scrollHeight);\")\n",
    "        sleep(1)\n",
    "        driver.execute_script(\"window.scrollBy(0, -700);\")\n",
    "        sleep(1)\n",
    "        elemento=driver.find_elements('xpath','//li[@class=\"product\"]')\n",
    "        if sig1==True:\n",
    "            for elem in elemento:\n",
    "                saco=[]\n",
    "                try:\n",
    "                    producto= elem.find_element(\"xpath\",'.//h2[@class=\"jsx-369422875 name title mini\"]').text\n",
    "                    print(producto)\n",
    "                    saco.append(producto)\n",
    "                    precio= elem.find_element(\"xpath\",'.//span[@data-pricerules=\"pricerule5\"]').text\n",
    "                    print(precio)\n",
    "                    saco.append(precio)\n",
    "                    cantidad= elem.find_element('xpath','.//h3[@class=\"jsx-369422875 extra text descriptive\"]').text\n",
    "                    saco.append(cantidad)\n",
    "                    print(cantidad)\n",
    "                    t.append(saco)\n",
    "                    #dict_t={'Frutas':{'precio':precio, 'producto':producto}}\n",
    "                    #datos.append(dict_t)\n",
    "                except:\n",
    "                    precio = 'NO DISPONIBLE'\n",
    "                    producto = 'NO DISPONIBLE'\n",
    "                    cantidad = 'NO DISPONIBLE'\n",
    "            \n",
    "            sig1.click()\n",
    "            sleep(1)\n",
    "        else:\n",
    "            for elem in elemento:\n",
    "                saco=[]\n",
    "                try:\n",
    "                    producto= elem.find_element(\"xpath\",'.//h2[@class=\"jsx-369422875 name title mini\"]').text\n",
    "                    print(producto)\n",
    "                    saco.append(producto)\n",
    "                    precio= elem.find_element(\"xpath\",'.//span[@data-pricerules=\"pricerule5\"]').text\n",
    "                    print(precio)\n",
    "                    saco.append(precio)\n",
    "                    cantidad= elem.find_element('xpath','.//h3[@class=\"jsx-369422875 extra text descriptive\"]').text\n",
    "                    saco.append(cantidad)\n",
    "                    print(cantidad)\n",
    "                    t.append(saco)\n",
    "                    #dict_t={'Frutas':{'precio':precio, 'producto':producto}}\n",
    "                    #datos.append(dict_t)\n",
    "                except:\n",
    "                    precio = 'NO DISPONIBLE'\n",
    "                    producto = 'NO DISPONIBLE'\n",
    "                    cantidad = 'NO DISPONIBLE'\n",
    "            break\n",
    "        \n",
    "\n",
    "    "
   ]
  },
  {
   "cell_type": "code",
   "execution_count": 90,
   "id": "5107ea5c",
   "metadata": {},
   "outputs": [
    {
     "ename": "WebDriverException",
     "evalue": "Message: chrome not reachable\n  (Session info: chrome=103.0.5060.134)\nStacktrace:\nBacktrace:\n\tOrdinal0 [0x008C5FD3+2187219]\n\tOrdinal0 [0x0085E6D1+1763025]\n\tOrdinal0 [0x00773D40+802112]\n\tOrdinal0 [0x00768A12+756242]\n\tOrdinal0 [0x00769248+758344]\n\tOrdinal0 [0x0076AB02+764674]\n\tOrdinal0 [0x00764379+738169]\n\tOrdinal0 [0x007751D0+807376]\n\tOrdinal0 [0x007CC7A2+1165218]\n\tOrdinal0 [0x007BC9A6+1100198]\n\tOrdinal0 [0x00796F80+946048]\n\tOrdinal0 [0x00797E76+949878]\n\tGetHandleVerifier [0x00B690C2+2721218]\n\tGetHandleVerifier [0x00B5AAF0+2662384]\n\tGetHandleVerifier [0x0095137A+526458]\n\tGetHandleVerifier [0x00950416+522518]\n\tOrdinal0 [0x00864EAB+1789611]\n\tOrdinal0 [0x008697A8+1808296]\n\tOrdinal0 [0x00869895+1808533]\n\tOrdinal0 [0x008726C1+1844929]\n\tBaseThreadInitThunk [0x75E5FA29+25]\n\tRtlGetAppContainerNamedObjectPath [0x773F7A9E+286]\n\tRtlGetAppContainerNamedObjectPath [0x773F7A6E+238]\n",
     "output_type": "error",
     "traceback": [
      "\u001b[1;31m---------------------------------------------------------------------------\u001b[0m",
      "\u001b[1;31mWebDriverException\u001b[0m                        Traceback (most recent call last)",
      "\u001b[1;32m~\\AppData\\Local\\Temp/ipykernel_1592/2955209531.py\u001b[0m in \u001b[0;36m<module>\u001b[1;34m\u001b[0m\n\u001b[1;32m----> 1\u001b[1;33m \u001b[0msig\u001b[0m\u001b[1;33m.\u001b[0m\u001b[0mtext\u001b[0m\u001b[1;33m\u001b[0m\u001b[1;33m\u001b[0m\u001b[0m\n\u001b[0m",
      "\u001b[1;32m~\\anaconda3\\lib\\site-packages\\selenium\\webdriver\\remote\\webelement.py\u001b[0m in \u001b[0;36mtext\u001b[1;34m(self)\u001b[0m\n\u001b[0;32m     82\u001b[0m     \u001b[1;32mdef\u001b[0m \u001b[0mtext\u001b[0m\u001b[1;33m(\u001b[0m\u001b[0mself\u001b[0m\u001b[1;33m)\u001b[0m \u001b[1;33m->\u001b[0m \u001b[0mstr\u001b[0m\u001b[1;33m:\u001b[0m\u001b[1;33m\u001b[0m\u001b[1;33m\u001b[0m\u001b[0m\n\u001b[0;32m     83\u001b[0m         \u001b[1;34m\"\"\"The text of the element.\"\"\"\u001b[0m\u001b[1;33m\u001b[0m\u001b[1;33m\u001b[0m\u001b[0m\n\u001b[1;32m---> 84\u001b[1;33m         \u001b[1;32mreturn\u001b[0m \u001b[0mself\u001b[0m\u001b[1;33m.\u001b[0m\u001b[0m_execute\u001b[0m\u001b[1;33m(\u001b[0m\u001b[0mCommand\u001b[0m\u001b[1;33m.\u001b[0m\u001b[0mGET_ELEMENT_TEXT\u001b[0m\u001b[1;33m)\u001b[0m\u001b[1;33m[\u001b[0m\u001b[1;34m'value'\u001b[0m\u001b[1;33m]\u001b[0m\u001b[1;33m\u001b[0m\u001b[1;33m\u001b[0m\u001b[0m\n\u001b[0m\u001b[0;32m     85\u001b[0m \u001b[1;33m\u001b[0m\u001b[0m\n\u001b[0;32m     86\u001b[0m     \u001b[1;32mdef\u001b[0m \u001b[0mclick\u001b[0m\u001b[1;33m(\u001b[0m\u001b[0mself\u001b[0m\u001b[1;33m)\u001b[0m \u001b[1;33m->\u001b[0m \u001b[1;32mNone\u001b[0m\u001b[1;33m:\u001b[0m\u001b[1;33m\u001b[0m\u001b[1;33m\u001b[0m\u001b[0m\n",
      "\u001b[1;32m~\\anaconda3\\lib\\site-packages\\selenium\\webdriver\\remote\\webelement.py\u001b[0m in \u001b[0;36m_execute\u001b[1;34m(self, command, params)\u001b[0m\n\u001b[0;32m    394\u001b[0m             \u001b[0mparams\u001b[0m \u001b[1;33m=\u001b[0m \u001b[1;33m{\u001b[0m\u001b[1;33m}\u001b[0m\u001b[1;33m\u001b[0m\u001b[1;33m\u001b[0m\u001b[0m\n\u001b[0;32m    395\u001b[0m         \u001b[0mparams\u001b[0m\u001b[1;33m[\u001b[0m\u001b[1;34m'id'\u001b[0m\u001b[1;33m]\u001b[0m \u001b[1;33m=\u001b[0m \u001b[0mself\u001b[0m\u001b[1;33m.\u001b[0m\u001b[0m_id\u001b[0m\u001b[1;33m\u001b[0m\u001b[1;33m\u001b[0m\u001b[0m\n\u001b[1;32m--> 396\u001b[1;33m         \u001b[1;32mreturn\u001b[0m \u001b[0mself\u001b[0m\u001b[1;33m.\u001b[0m\u001b[0m_parent\u001b[0m\u001b[1;33m.\u001b[0m\u001b[0mexecute\u001b[0m\u001b[1;33m(\u001b[0m\u001b[0mcommand\u001b[0m\u001b[1;33m,\u001b[0m \u001b[0mparams\u001b[0m\u001b[1;33m)\u001b[0m\u001b[1;33m\u001b[0m\u001b[1;33m\u001b[0m\u001b[0m\n\u001b[0m\u001b[0;32m    397\u001b[0m \u001b[1;33m\u001b[0m\u001b[0m\n\u001b[0;32m    398\u001b[0m     \u001b[1;32mdef\u001b[0m \u001b[0mfind_element\u001b[0m\u001b[1;33m(\u001b[0m\u001b[0mself\u001b[0m\u001b[1;33m,\u001b[0m \u001b[0mby\u001b[0m\u001b[1;33m=\u001b[0m\u001b[0mBy\u001b[0m\u001b[1;33m.\u001b[0m\u001b[0mID\u001b[0m\u001b[1;33m,\u001b[0m \u001b[0mvalue\u001b[0m\u001b[1;33m=\u001b[0m\u001b[1;32mNone\u001b[0m\u001b[1;33m)\u001b[0m \u001b[1;33m->\u001b[0m \u001b[0mWebElement\u001b[0m\u001b[1;33m:\u001b[0m\u001b[1;33m\u001b[0m\u001b[1;33m\u001b[0m\u001b[0m\n",
      "\u001b[1;32m~\\anaconda3\\lib\\site-packages\\selenium\\webdriver\\remote\\webdriver.py\u001b[0m in \u001b[0;36mexecute\u001b[1;34m(self, driver_command, params)\u001b[0m\n\u001b[0;32m    433\u001b[0m         \u001b[0mresponse\u001b[0m \u001b[1;33m=\u001b[0m \u001b[0mself\u001b[0m\u001b[1;33m.\u001b[0m\u001b[0mcommand_executor\u001b[0m\u001b[1;33m.\u001b[0m\u001b[0mexecute\u001b[0m\u001b[1;33m(\u001b[0m\u001b[0mdriver_command\u001b[0m\u001b[1;33m,\u001b[0m \u001b[0mparams\u001b[0m\u001b[1;33m)\u001b[0m\u001b[1;33m\u001b[0m\u001b[1;33m\u001b[0m\u001b[0m\n\u001b[0;32m    434\u001b[0m         \u001b[1;32mif\u001b[0m \u001b[0mresponse\u001b[0m\u001b[1;33m:\u001b[0m\u001b[1;33m\u001b[0m\u001b[1;33m\u001b[0m\u001b[0m\n\u001b[1;32m--> 435\u001b[1;33m             \u001b[0mself\u001b[0m\u001b[1;33m.\u001b[0m\u001b[0merror_handler\u001b[0m\u001b[1;33m.\u001b[0m\u001b[0mcheck_response\u001b[0m\u001b[1;33m(\u001b[0m\u001b[0mresponse\u001b[0m\u001b[1;33m)\u001b[0m\u001b[1;33m\u001b[0m\u001b[1;33m\u001b[0m\u001b[0m\n\u001b[0m\u001b[0;32m    436\u001b[0m             response['value'] = self._unwrap_value(\n\u001b[0;32m    437\u001b[0m                 response.get('value', None))\n",
      "\u001b[1;32m~\\anaconda3\\lib\\site-packages\\selenium\\webdriver\\remote\\errorhandler.py\u001b[0m in \u001b[0;36mcheck_response\u001b[1;34m(self, response)\u001b[0m\n\u001b[0;32m    245\u001b[0m                 \u001b[0malert_text\u001b[0m \u001b[1;33m=\u001b[0m \u001b[0mvalue\u001b[0m\u001b[1;33m[\u001b[0m\u001b[1;34m'alert'\u001b[0m\u001b[1;33m]\u001b[0m\u001b[1;33m.\u001b[0m\u001b[0mget\u001b[0m\u001b[1;33m(\u001b[0m\u001b[1;34m'text'\u001b[0m\u001b[1;33m)\u001b[0m\u001b[1;33m\u001b[0m\u001b[1;33m\u001b[0m\u001b[0m\n\u001b[0;32m    246\u001b[0m             \u001b[1;32mraise\u001b[0m \u001b[0mexception_class\u001b[0m\u001b[1;33m(\u001b[0m\u001b[0mmessage\u001b[0m\u001b[1;33m,\u001b[0m \u001b[0mscreen\u001b[0m\u001b[1;33m,\u001b[0m \u001b[0mstacktrace\u001b[0m\u001b[1;33m,\u001b[0m \u001b[0malert_text\u001b[0m\u001b[1;33m)\u001b[0m  \u001b[1;31m# type: ignore[call-arg]  # mypy is not smart enough here\u001b[0m\u001b[1;33m\u001b[0m\u001b[1;33m\u001b[0m\u001b[0m\n\u001b[1;32m--> 247\u001b[1;33m         \u001b[1;32mraise\u001b[0m \u001b[0mexception_class\u001b[0m\u001b[1;33m(\u001b[0m\u001b[0mmessage\u001b[0m\u001b[1;33m,\u001b[0m \u001b[0mscreen\u001b[0m\u001b[1;33m,\u001b[0m \u001b[0mstacktrace\u001b[0m\u001b[1;33m)\u001b[0m\u001b[1;33m\u001b[0m\u001b[1;33m\u001b[0m\u001b[0m\n\u001b[0m\u001b[0;32m    248\u001b[0m \u001b[1;33m\u001b[0m\u001b[0m\n\u001b[0;32m    249\u001b[0m     \u001b[1;32mdef\u001b[0m \u001b[0m_value_or_default\u001b[0m\u001b[1;33m(\u001b[0m\u001b[0mself\u001b[0m\u001b[1;33m,\u001b[0m \u001b[0mobj\u001b[0m\u001b[1;33m:\u001b[0m \u001b[0mMapping\u001b[0m\u001b[1;33m[\u001b[0m\u001b[0m_KT\u001b[0m\u001b[1;33m,\u001b[0m \u001b[0m_VT\u001b[0m\u001b[1;33m]\u001b[0m\u001b[1;33m,\u001b[0m \u001b[0mkey\u001b[0m\u001b[1;33m:\u001b[0m \u001b[0m_KT\u001b[0m\u001b[1;33m,\u001b[0m \u001b[0mdefault\u001b[0m\u001b[1;33m:\u001b[0m \u001b[0m_VT\u001b[0m\u001b[1;33m)\u001b[0m \u001b[1;33m->\u001b[0m \u001b[0m_VT\u001b[0m\u001b[1;33m:\u001b[0m\u001b[1;33m\u001b[0m\u001b[1;33m\u001b[0m\u001b[0m\n",
      "\u001b[1;31mWebDriverException\u001b[0m: Message: chrome not reachable\n  (Session info: chrome=103.0.5060.134)\nStacktrace:\nBacktrace:\n\tOrdinal0 [0x008C5FD3+2187219]\n\tOrdinal0 [0x0085E6D1+1763025]\n\tOrdinal0 [0x00773D40+802112]\n\tOrdinal0 [0x00768A12+756242]\n\tOrdinal0 [0x00769248+758344]\n\tOrdinal0 [0x0076AB02+764674]\n\tOrdinal0 [0x00764379+738169]\n\tOrdinal0 [0x007751D0+807376]\n\tOrdinal0 [0x007CC7A2+1165218]\n\tOrdinal0 [0x007BC9A6+1100198]\n\tOrdinal0 [0x00796F80+946048]\n\tOrdinal0 [0x00797E76+949878]\n\tGetHandleVerifier [0x00B690C2+2721218]\n\tGetHandleVerifier [0x00B5AAF0+2662384]\n\tGetHandleVerifier [0x0095137A+526458]\n\tGetHandleVerifier [0x00950416+522518]\n\tOrdinal0 [0x00864EAB+1789611]\n\tOrdinal0 [0x008697A8+1808296]\n\tOrdinal0 [0x00869895+1808533]\n\tOrdinal0 [0x008726C1+1844929]\n\tBaseThreadInitThunk [0x75E5FA29+25]\n\tRtlGetAppContainerNamedObjectPath [0x773F7A9E+286]\n\tRtlGetAppContainerNamedObjectPath [0x773F7A6E+238]\n"
     ]
    }
   ],
   "source": []
  },
  {
   "cell_type": "code",
   "execution_count": 73,
   "id": "69735fac",
   "metadata": {},
   "outputs": [],
   "source": [
    "if sig1==True:\n",
    "    print('ho')"
   ]
  },
  {
   "cell_type": "code",
   "execution_count": 71,
   "id": "c5e50be2",
   "metadata": {},
   "outputs": [],
   "source": [
    "if a==False:\n",
    "    print('aaaa')"
   ]
  }
 ],
 "metadata": {
  "kernelspec": {
   "display_name": "Python 3 (ipykernel)",
   "language": "python",
   "name": "python3"
  },
  "language_info": {
   "codemirror_mode": {
    "name": "ipython",
    "version": 3
   },
   "file_extension": ".py",
   "mimetype": "text/x-python",
   "name": "python",
   "nbconvert_exporter": "python",
   "pygments_lexer": "ipython3",
   "version": "3.9.7"
  }
 },
 "nbformat": 4,
 "nbformat_minor": 5
}
