{
 "cells": [
  {
   "cell_type": "code",
   "execution_count": null,
   "id": "b23857a1",
   "metadata": {},
   "outputs": [],
   "source": []
  },
  {
   "cell_type": "code",
   "execution_count": 43,
   "id": "9d86309d",
   "metadata": {},
   "outputs": [
    {
     "name": "stderr",
     "output_type": "stream",
     "text": [
      "<ipython-input-43-379cb89fea51>:16: DeprecationWarning: executable_path has been deprecated, please pass in a Service object\n",
      "  browser = webdriver.Chrome(PATH,options = options)\n"
     ]
    },
    {
     "name": "stdout",
     "output_type": "stream",
     "text": [
      "Coloca el producto de interes:leche\n"
     ]
    }
   ],
   "source": [
    "\n",
    "\n",
    "#seleccionar la pantalla e item por item\n",
    "\n",
    "#Pasar pagina\n"
   ]
  },
  {
   "cell_type": "code",
   "execution_count": 145,
   "id": "b2d417ca",
   "metadata": {},
   "outputs": [
    {
     "name": "stdout",
     "output_type": "stream",
     "text": [
      "hecho\n"
     ]
    }
   ],
   "source": [
    "# FUNCIONES QUE CREAMOS PARA UTILIZARLAS POSTERIORMENTE:\n",
    "\n",
    "# PAQUETES UTILIZADOS\n",
    "from selenium import webdriver\n",
    "from selenium.webdriver.support.ui import WebDriverWait\n",
    "from selenium.webdriver.support import expected_conditions as EC\n",
    "from selenium.webdriver.common.by import By\n",
    "import xml.etree.ElementTree as ET\n",
    "import time\n",
    "import pandas as pd\n",
    "    \n",
    "# Función que selecciona la pantalla de todos los productos en general e individualmente\n",
    "def it():\n",
    "    timeout=25 #tiempo de espera por pagina\n",
    "    element_present = EC.presence_of_element_located((By.CLASS_NAME, 'showcase-grid'))\n",
    "    WebDriverWait(browser, timeout).until(element_present) #Para esperar que cargue toda la pantalla con todos los productos\n",
    "    elem_list = browser.find_element(\n",
    "        By.CLASS_NAME, \"showcase-grid\") #Buscando todos los productos\n",
    "    items = elem_list.find_elements(\n",
    "        By.XPATH, '//div[@class=\"HA Showcase Showcase--food\"]') #Seleccionando cada producto\n",
    "    return items\n",
    "\n",
    "# Función que almacena los valores que nos interesan de cada producto\n",
    "def alm(): \n",
    "    table = [] # en donde se almacera toda la pagina\n",
    "    for item in it():\n",
    "        prov = [] # en donde se almacera los valores de un solo producto\n",
    "        \n",
    "        pagina=\"PlazaVea\"\n",
    "        title = \"\"\n",
    "        price = \"\"\n",
    "        cantidad = \"\"\n",
    "        \n",
    "        prov.append(pagina)\n",
    "        \n",
    "        try:\n",
    "            title = item.find_element(By.CLASS_NAME, 'Showcase__content').get_attribute(\"title\")\n",
    "            prov.append(title) #Seleccionando el titulo del producto\n",
    "        except:\n",
    "            pass #En caso de que no seleccione, que pase.\n",
    "        \n",
    "        try:\n",
    "            price = item.find_element(By.CLASS_NAME, \"Showcase__salePrice\").get_attribute(\"data-price\")\n",
    "            prov.append(price) #Seleccionando el precio del producto\n",
    "        except:\n",
    "            pass #En caso de que no seleccione, que pase.\n",
    "        \n",
    "        try:\n",
    "            cantidad = item.find_element(By.XPATH, \"/html/body/div[4]/main/div[1]/div[2]/main/div[2]/div[1]/div/div/div/div/div/div/div[1]/div/div[2]/div[2]/div\").text\n",
    "            prov.append(cantidad) #Seleccionando la cantidad del producto\n",
    "        except:\n",
    "            pass #En caso de que no seleccione, que pase.\n",
    "        \n",
    "        \n",
    "        table.append(prov) #almacena todos los productos de una sola pagina\n",
    "    return table\n",
    "\n",
    "print(\"hecho\") #Imprime hecho si todo corrio correctamente"
   ]
  },
  {
   "cell_type": "code",
   "execution_count": 168,
   "id": "f0ff0eca",
   "metadata": {},
   "outputs": [
    {
     "name": "stderr",
     "output_type": "stream",
     "text": [
      "<ipython-input-168-1df150f9493d>:16: DeprecationWarning: executable_path has been deprecated, please pass in a Service object\n",
      "  browser = webdriver.Chrome(PATH,options = options)\n"
     ]
    },
    {
     "name": "stdout",
     "output_type": "stream",
     "text": [
      "Coloca el producto de interes:lechuga\n"
     ]
    },
    {
     "ename": "ElementClickInterceptedException",
     "evalue": "Message: element click intercepted: Element <img class=\"CustomModal__close\" src=\"https://plazavea.vteximg.com.br/arquivos/ico_cerrar_circulo.png\"> is not clickable at point (1237, 202). Other element would receive the click: <div class=\"Header__dropdown__iconList__login__notification\">...</div>\n  (Session info: chrome=104.0.5112.79)\nStacktrace:\nBacktrace:\n\tOrdinal0 [0x00685FD3+2187219]\n\tOrdinal0 [0x0061E6D1+1763025]\n\tOrdinal0 [0x00533E78+802424]\n\tOrdinal0 [0x0056834B+1016651]\n\tOrdinal0 [0x00566318+1008408]\n\tOrdinal0 [0x0056401B+999451]\n\tOrdinal0 [0x00562D69+994665]\n\tOrdinal0 [0x005589B3+952755]\n\tOrdinal0 [0x0057CB8C+1100684]\n\tOrdinal0 [0x00558394+951188]\n\tOrdinal0 [0x0057CDA4+1101220]\n\tOrdinal0 [0x0058CFC2+1167298]\n\tOrdinal0 [0x0057C9A6+1100198]\n\tOrdinal0 [0x00556F80+946048]\n\tOrdinal0 [0x00557E76+949878]\n\tGetHandleVerifier [0x009290C2+2721218]\n\tGetHandleVerifier [0x0091AAF0+2662384]\n\tGetHandleVerifier [0x0071137A+526458]\n\tGetHandleVerifier [0x00710416+522518]\n\tOrdinal0 [0x00624EAB+1789611]\n\tOrdinal0 [0x006297A8+1808296]\n\tOrdinal0 [0x00629895+1808533]\n\tOrdinal0 [0x006326C1+1844929]\n\tBaseThreadInitThunk [0x75D26739+25]\n\tRtlGetFullPathName_UEx [0x77498FEF+1215]\n\tRtlGetFullPathName_UEx [0x77498FBD+1165]\n",
     "output_type": "error",
     "traceback": [
      "\u001b[1;31m---------------------------------------------------------------------------\u001b[0m",
      "\u001b[1;31mElementClickInterceptedException\u001b[0m          Traceback (most recent call last)",
      "\u001b[1;32m<ipython-input-168-1df150f9493d>\u001b[0m in \u001b[0;36m<module>\u001b[1;34m\u001b[0m\n\u001b[0;32m     28\u001b[0m     \u001b[1;33m.\u001b[0m\u001b[0mclick\u001b[0m\u001b[1;33m(\u001b[0m\u001b[1;33m)\u001b[0m\u001b[1;33m\u001b[0m\u001b[1;33m\u001b[0m\u001b[0m\n\u001b[0;32m     29\u001b[0m \u001b[1;33m\u001b[0m\u001b[0m\n\u001b[1;32m---> 30\u001b[1;33m \u001b[0mWebDriverWait\u001b[0m\u001b[1;33m(\u001b[0m\u001b[0mbrowser\u001b[0m\u001b[1;33m,\u001b[0m \u001b[1;36m50\u001b[0m\u001b[1;33m)\u001b[0m\u001b[0;31m\\\u001b[0m\u001b[1;33m\u001b[0m\u001b[1;33m\u001b[0m\u001b[0m\n\u001b[0m\u001b[0;32m     31\u001b[0m     .until(EC.element_to_be_clickable((By.CLASS_NAME,\n\u001b[0;32m     32\u001b[0m                                       'CustomModal__close')))\\\n",
      "\u001b[1;32m~\\anaconda3\\lib\\site-packages\\selenium\\webdriver\\remote\\webelement.py\u001b[0m in \u001b[0;36mclick\u001b[1;34m(self)\u001b[0m\n\u001b[0;32m     86\u001b[0m     \u001b[1;32mdef\u001b[0m \u001b[0mclick\u001b[0m\u001b[1;33m(\u001b[0m\u001b[0mself\u001b[0m\u001b[1;33m)\u001b[0m \u001b[1;33m->\u001b[0m \u001b[1;32mNone\u001b[0m\u001b[1;33m:\u001b[0m\u001b[1;33m\u001b[0m\u001b[1;33m\u001b[0m\u001b[0m\n\u001b[0;32m     87\u001b[0m         \u001b[1;34m\"\"\"Clicks the element.\"\"\"\u001b[0m\u001b[1;33m\u001b[0m\u001b[1;33m\u001b[0m\u001b[0m\n\u001b[1;32m---> 88\u001b[1;33m         \u001b[0mself\u001b[0m\u001b[1;33m.\u001b[0m\u001b[0m_execute\u001b[0m\u001b[1;33m(\u001b[0m\u001b[0mCommand\u001b[0m\u001b[1;33m.\u001b[0m\u001b[0mCLICK_ELEMENT\u001b[0m\u001b[1;33m)\u001b[0m\u001b[1;33m\u001b[0m\u001b[1;33m\u001b[0m\u001b[0m\n\u001b[0m\u001b[0;32m     89\u001b[0m \u001b[1;33m\u001b[0m\u001b[0m\n\u001b[0;32m     90\u001b[0m     \u001b[1;32mdef\u001b[0m \u001b[0msubmit\u001b[0m\u001b[1;33m(\u001b[0m\u001b[0mself\u001b[0m\u001b[1;33m)\u001b[0m\u001b[1;33m:\u001b[0m\u001b[1;33m\u001b[0m\u001b[1;33m\u001b[0m\u001b[0m\n",
      "\u001b[1;32m~\\anaconda3\\lib\\site-packages\\selenium\\webdriver\\remote\\webelement.py\u001b[0m in \u001b[0;36m_execute\u001b[1;34m(self, command, params)\u001b[0m\n\u001b[0;32m    394\u001b[0m             \u001b[0mparams\u001b[0m \u001b[1;33m=\u001b[0m \u001b[1;33m{\u001b[0m\u001b[1;33m}\u001b[0m\u001b[1;33m\u001b[0m\u001b[1;33m\u001b[0m\u001b[0m\n\u001b[0;32m    395\u001b[0m         \u001b[0mparams\u001b[0m\u001b[1;33m[\u001b[0m\u001b[1;34m'id'\u001b[0m\u001b[1;33m]\u001b[0m \u001b[1;33m=\u001b[0m \u001b[0mself\u001b[0m\u001b[1;33m.\u001b[0m\u001b[0m_id\u001b[0m\u001b[1;33m\u001b[0m\u001b[1;33m\u001b[0m\u001b[0m\n\u001b[1;32m--> 396\u001b[1;33m         \u001b[1;32mreturn\u001b[0m \u001b[0mself\u001b[0m\u001b[1;33m.\u001b[0m\u001b[0m_parent\u001b[0m\u001b[1;33m.\u001b[0m\u001b[0mexecute\u001b[0m\u001b[1;33m(\u001b[0m\u001b[0mcommand\u001b[0m\u001b[1;33m,\u001b[0m \u001b[0mparams\u001b[0m\u001b[1;33m)\u001b[0m\u001b[1;33m\u001b[0m\u001b[1;33m\u001b[0m\u001b[0m\n\u001b[0m\u001b[0;32m    397\u001b[0m \u001b[1;33m\u001b[0m\u001b[0m\n\u001b[0;32m    398\u001b[0m     \u001b[1;32mdef\u001b[0m \u001b[0mfind_element\u001b[0m\u001b[1;33m(\u001b[0m\u001b[0mself\u001b[0m\u001b[1;33m,\u001b[0m \u001b[0mby\u001b[0m\u001b[1;33m=\u001b[0m\u001b[0mBy\u001b[0m\u001b[1;33m.\u001b[0m\u001b[0mID\u001b[0m\u001b[1;33m,\u001b[0m \u001b[0mvalue\u001b[0m\u001b[1;33m=\u001b[0m\u001b[1;32mNone\u001b[0m\u001b[1;33m)\u001b[0m \u001b[1;33m->\u001b[0m \u001b[0mWebElement\u001b[0m\u001b[1;33m:\u001b[0m\u001b[1;33m\u001b[0m\u001b[1;33m\u001b[0m\u001b[0m\n",
      "\u001b[1;32m~\\anaconda3\\lib\\site-packages\\selenium\\webdriver\\remote\\webdriver.py\u001b[0m in \u001b[0;36mexecute\u001b[1;34m(self, driver_command, params)\u001b[0m\n\u001b[0;32m    433\u001b[0m         \u001b[0mresponse\u001b[0m \u001b[1;33m=\u001b[0m \u001b[0mself\u001b[0m\u001b[1;33m.\u001b[0m\u001b[0mcommand_executor\u001b[0m\u001b[1;33m.\u001b[0m\u001b[0mexecute\u001b[0m\u001b[1;33m(\u001b[0m\u001b[0mdriver_command\u001b[0m\u001b[1;33m,\u001b[0m \u001b[0mparams\u001b[0m\u001b[1;33m)\u001b[0m\u001b[1;33m\u001b[0m\u001b[1;33m\u001b[0m\u001b[0m\n\u001b[0;32m    434\u001b[0m         \u001b[1;32mif\u001b[0m \u001b[0mresponse\u001b[0m\u001b[1;33m:\u001b[0m\u001b[1;33m\u001b[0m\u001b[1;33m\u001b[0m\u001b[0m\n\u001b[1;32m--> 435\u001b[1;33m             \u001b[0mself\u001b[0m\u001b[1;33m.\u001b[0m\u001b[0merror_handler\u001b[0m\u001b[1;33m.\u001b[0m\u001b[0mcheck_response\u001b[0m\u001b[1;33m(\u001b[0m\u001b[0mresponse\u001b[0m\u001b[1;33m)\u001b[0m\u001b[1;33m\u001b[0m\u001b[1;33m\u001b[0m\u001b[0m\n\u001b[0m\u001b[0;32m    436\u001b[0m             response['value'] = self._unwrap_value(\n\u001b[0;32m    437\u001b[0m                 response.get('value', None))\n",
      "\u001b[1;32m~\\anaconda3\\lib\\site-packages\\selenium\\webdriver\\remote\\errorhandler.py\u001b[0m in \u001b[0;36mcheck_response\u001b[1;34m(self, response)\u001b[0m\n\u001b[0;32m    245\u001b[0m                 \u001b[0malert_text\u001b[0m \u001b[1;33m=\u001b[0m \u001b[0mvalue\u001b[0m\u001b[1;33m[\u001b[0m\u001b[1;34m'alert'\u001b[0m\u001b[1;33m]\u001b[0m\u001b[1;33m.\u001b[0m\u001b[0mget\u001b[0m\u001b[1;33m(\u001b[0m\u001b[1;34m'text'\u001b[0m\u001b[1;33m)\u001b[0m\u001b[1;33m\u001b[0m\u001b[1;33m\u001b[0m\u001b[0m\n\u001b[0;32m    246\u001b[0m             \u001b[1;32mraise\u001b[0m \u001b[0mexception_class\u001b[0m\u001b[1;33m(\u001b[0m\u001b[0mmessage\u001b[0m\u001b[1;33m,\u001b[0m \u001b[0mscreen\u001b[0m\u001b[1;33m,\u001b[0m \u001b[0mstacktrace\u001b[0m\u001b[1;33m,\u001b[0m \u001b[0malert_text\u001b[0m\u001b[1;33m)\u001b[0m  \u001b[1;31m# type: ignore[call-arg]  # mypy is not smart enough here\u001b[0m\u001b[1;33m\u001b[0m\u001b[1;33m\u001b[0m\u001b[0m\n\u001b[1;32m--> 247\u001b[1;33m         \u001b[1;32mraise\u001b[0m \u001b[0mexception_class\u001b[0m\u001b[1;33m(\u001b[0m\u001b[0mmessage\u001b[0m\u001b[1;33m,\u001b[0m \u001b[0mscreen\u001b[0m\u001b[1;33m,\u001b[0m \u001b[0mstacktrace\u001b[0m\u001b[1;33m)\u001b[0m\u001b[1;33m\u001b[0m\u001b[1;33m\u001b[0m\u001b[0m\n\u001b[0m\u001b[0;32m    248\u001b[0m \u001b[1;33m\u001b[0m\u001b[0m\n\u001b[0;32m    249\u001b[0m     \u001b[1;32mdef\u001b[0m \u001b[0m_value_or_default\u001b[0m\u001b[1;33m(\u001b[0m\u001b[0mself\u001b[0m\u001b[1;33m,\u001b[0m \u001b[0mobj\u001b[0m\u001b[1;33m:\u001b[0m \u001b[0mMapping\u001b[0m\u001b[1;33m[\u001b[0m\u001b[0m_KT\u001b[0m\u001b[1;33m,\u001b[0m \u001b[0m_VT\u001b[0m\u001b[1;33m]\u001b[0m\u001b[1;33m,\u001b[0m \u001b[0mkey\u001b[0m\u001b[1;33m:\u001b[0m \u001b[0m_KT\u001b[0m\u001b[1;33m,\u001b[0m \u001b[0mdefault\u001b[0m\u001b[1;33m:\u001b[0m \u001b[0m_VT\u001b[0m\u001b[1;33m)\u001b[0m \u001b[1;33m->\u001b[0m \u001b[0m_VT\u001b[0m\u001b[1;33m:\u001b[0m\u001b[1;33m\u001b[0m\u001b[1;33m\u001b[0m\u001b[0m\n",
      "\u001b[1;31mElementClickInterceptedException\u001b[0m: Message: element click intercepted: Element <img class=\"CustomModal__close\" src=\"https://plazavea.vteximg.com.br/arquivos/ico_cerrar_circulo.png\"> is not clickable at point (1237, 202). Other element would receive the click: <div class=\"Header__dropdown__iconList__login__notification\">...</div>\n  (Session info: chrome=104.0.5112.79)\nStacktrace:\nBacktrace:\n\tOrdinal0 [0x00685FD3+2187219]\n\tOrdinal0 [0x0061E6D1+1763025]\n\tOrdinal0 [0x00533E78+802424]\n\tOrdinal0 [0x0056834B+1016651]\n\tOrdinal0 [0x00566318+1008408]\n\tOrdinal0 [0x0056401B+999451]\n\tOrdinal0 [0x00562D69+994665]\n\tOrdinal0 [0x005589B3+952755]\n\tOrdinal0 [0x0057CB8C+1100684]\n\tOrdinal0 [0x00558394+951188]\n\tOrdinal0 [0x0057CDA4+1101220]\n\tOrdinal0 [0x0058CFC2+1167298]\n\tOrdinal0 [0x0057C9A6+1100198]\n\tOrdinal0 [0x00556F80+946048]\n\tOrdinal0 [0x00557E76+949878]\n\tGetHandleVerifier [0x009290C2+2721218]\n\tGetHandleVerifier [0x0091AAF0+2662384]\n\tGetHandleVerifier [0x0071137A+526458]\n\tGetHandleVerifier [0x00710416+522518]\n\tOrdinal0 [0x00624EAB+1789611]\n\tOrdinal0 [0x006297A8+1808296]\n\tOrdinal0 [0x00629895+1808533]\n\tOrdinal0 [0x006326C1+1844929]\n\tBaseThreadInitThunk [0x75D26739+25]\n\tRtlGetFullPathName_UEx [0x77498FEF+1215]\n\tRtlGetFullPathName_UEx [0x77498FBD+1165]\n"
     ]
    }
   ],
   "source": [
    "from selenium import webdriver\n",
    "from selenium.webdriver.support.ui import WebDriverWait\n",
    "from selenium.webdriver.support import expected_conditions as EC\n",
    "from selenium.webdriver.common.by import By\n",
    "import xml.etree.ElementTree as ET\n",
    "import time\n",
    "import pandas as pd\n",
    "\n",
    "options = webdriver.ChromeOptions()\n",
    "options.add_argument('--start-maximized')\n",
    "options.add_argument('--disable-extensions')\n",
    "options.add_argument('--incognito')\n",
    "\n",
    "PATH = 'C:/Users/gian_/OneDrive/Escritorio/Trabajo_Final_LP2/chromedriver.exe' \n",
    "\n",
    "browser = webdriver.Chrome(PATH,options = options)\n",
    "\n",
    "#Buscar el producto\n",
    "\n",
    "x=str(input(\"Coloca el producto de interes:\"))\n",
    "\n",
    "url = \"https://www.plazavea.com.pe/search/?_query=\"+x #Aqui colocamos los valores de la pagina y la categoria\n",
    "browser.get(url)\n",
    "\n",
    "WebDriverWait(browser, 50)\\\n",
    "    .until(EC.element_to_be_clickable((By.CLASS_NAME,\n",
    "                                      'Header__dropdown__iconList__login__notification')))\\\n",
    "    .click()\n",
    "\n",
    "WebDriverWait(browser, 50)\\\n",
    "    .until(EC.element_to_be_clickable((By.CLASS_NAME,\n",
    "                                      'CustomModal__close')))\\\n",
    "    .click()\n",
    "\n",
    "elem_n = browser.find_element(\n",
    "        By.CLASS_NAME, \"pagination__nav\") #Buscando todos los productos\n",
    "itemx = elem_n.find_elements(\n",
    "    By.CLASS_NAME, 'pagination__item') #Seleccionando cada producto\n",
    "\n",
    "paginas = []\n",
    "\n",
    "for item in itemx:\n",
    "    paginas.append(item.text)\n",
    "\n",
    "paginas2 = []\n",
    "r=0\n",
    "while r < len(paginas):\n",
    "    if paginas[r].isdigit() == True:\n",
    "        paginas2.append(paginas[r])\n",
    "    r+=1\n",
    "\n",
    "x=paginas2[len(paginas2)-1]\n",
    "print(\"Cantidad de pagina\", x)\n",
    "n=0\n",
    "\n",
    "datos=[]\n",
    "\n",
    "while n<=int(x):\n",
    "    try:\n",
    "        n+=1\n",
    "        WebDriverWait(browser, 15)\\\n",
    "            .until(EC.element_to_be_clickable((By.XPATH,\n",
    "                                              '/html/body/div[4]/main/div/div[2]/div/section[2]/div[2]/div/div[3]/div/div[4]/div/div/span['+str(n)+']')))\\\n",
    "            .click()\n",
    "        k=alm()\n",
    "        datos.extend(k)\n",
    "    except:\n",
    "        break\n",
    "print(datos)"
   ]
  },
  {
   "cell_type": "code",
   "execution_count": null,
   "id": "7f5ab353",
   "metadata": {},
   "outputs": [],
   "source": []
  }
 ],
 "metadata": {
  "kernelspec": {
   "display_name": "Python 3",
   "language": "python",
   "name": "python3"
  },
  "language_info": {
   "codemirror_mode": {
    "name": "ipython",
    "version": 3
   },
   "file_extension": ".py",
   "mimetype": "text/x-python",
   "name": "python",
   "nbconvert_exporter": "python",
   "pygments_lexer": "ipython3",
   "version": "3.8.8"
  }
 },
 "nbformat": 4,
 "nbformat_minor": 5
}
